{
 "cells": [
  {
   "cell_type": "code",
   "execution_count": 1,
   "metadata": {},
   "outputs": [],
   "source": [
    "%matplotlib inline\n",
    "import matplotlib.pyplot as plt\n",
    "import seaborn as sns\n",
    "\n",
    "import pandas as pd\n",
    "import numpy as np\n",
    "from sklearn.feature_extraction.text import TfidfTransformer\n",
    "from sklearn.preprocessing import normalize\n",
    "from scipy.spatial.distance import cdist\n",
    "import pickle\n"
   ]
  },
  {
   "cell_type": "code",
   "execution_count": 2,
   "metadata": {},
   "outputs": [],
   "source": [
    "with open('data/script_df.pkl', 'rb') as f:\n",
    "    movie_df = pickle.load(f)"
   ]
  },
  {
   "cell_type": "code",
   "execution_count": 3,
   "metadata": {},
   "outputs": [],
   "source": [
    "with open('result/nmf_model.pkl', 'rb') as f:\n",
    "    nmf_topic_vec, nmf, _, tfidf = pickle.load(f)"
   ]
  },
  {
   "cell_type": "markdown",
   "metadata": {},
   "source": [
    "#### Prepare genre info"
   ]
  },
  {
   "cell_type": "code",
   "execution_count": 4,
   "metadata": {},
   "outputs": [
    {
     "data": {
      "text/plain": [
       "genre                         [Horror.Mystery, Thriller, Drama]\n",
       "script_url                      /scripts/What-Lies-Beneath.html\n",
       "scripts       murky haze dark greens shaft prismed purple pa...\n",
       "title                                         What Lies Beneath\n",
       "Name: 1078, dtype: object"
      ]
     },
     "execution_count": 4,
     "metadata": {},
     "output_type": "execute_result"
    }
   ],
   "source": [
    "movie_df.iloc[1078]"
   ]
  },
  {
   "cell_type": "markdown",
   "metadata": {},
   "source": [
    "The genre in the data is not well formated. For example, '.' were used as seperator.  Replace '.' with '|' before convert them to dummies. Also merge 'Music' and 'Musical' into one genre."
   ]
  },
  {
   "cell_type": "code",
   "execution_count": 5,
   "metadata": {},
   "outputs": [],
   "source": [
    "def format_genre(genres):\n",
    "    res = []\n",
    "    for g in genres:\n",
    "        g = g.strip().replace('.', '|')\n",
    "        if g == 'Music':\n",
    "            g = 'Musical'\n",
    "        res.append(g)\n",
    "    return '|'.join(res)"
   ]
  },
  {
   "cell_type": "code",
   "execution_count": 6,
   "metadata": {},
   "outputs": [],
   "source": [
    "movie_df['genre'] = movie_df['genre'].apply(format_genre)"
   ]
  },
  {
   "cell_type": "code",
   "execution_count": 7,
   "metadata": {},
   "outputs": [
    {
     "data": {
      "text/plain": [
       "genre                             Horror|Mystery|Thriller|Drama\n",
       "script_url                      /scripts/What-Lies-Beneath.html\n",
       "scripts       murky haze dark greens shaft prismed purple pa...\n",
       "title                                         What Lies Beneath\n",
       "Name: 1078, dtype: object"
      ]
     },
     "execution_count": 7,
     "metadata": {},
     "output_type": "execute_result"
    }
   ],
   "source": [
    "movie_df.iloc[1078]"
   ]
  },
  {
   "cell_type": "code",
   "execution_count": 8,
   "metadata": {},
   "outputs": [],
   "source": [
    "genre_dummies = movie_df['genre'].str.get_dummies(sep='|')"
   ]
  },
  {
   "cell_type": "code",
   "execution_count": 9,
   "metadata": {},
   "outputs": [
    {
     "data": {
      "text/plain": [
       "Index(['Action', 'Adventure', 'Animation', 'Biography', 'Comedy', 'Crime',\n",
       "       'Drama', 'Family', 'Fantasy', 'Film-Noir', 'History', 'Horror',\n",
       "       'Musical', 'Mystery', 'Romance', 'Sci-Fi', 'Short', 'Sport', 'Thriller',\n",
       "       'War', 'Western'],\n",
       "      dtype='object')"
      ]
     },
     "execution_count": 9,
     "metadata": {},
     "output_type": "execute_result"
    }
   ],
   "source": [
    "genre_dummies.columns"
   ]
  },
  {
   "cell_type": "markdown",
   "metadata": {},
   "source": [
    "Check the correlation between genres"
   ]
  },
  {
   "cell_type": "code",
   "execution_count": 10,
   "metadata": {},
   "outputs": [
    {
     "data": {
      "image/png": "[encoded data removed]",
      "text/plain": [
       "<Figure size 576x432 with 2 Axes>"
      ]
     },
     "metadata": {},
     "output_type": "display_data"
    }
   ],
   "source": [
    "plt.figure(figsize=(8,6))\n",
    "sns.heatmap(genre_dummies.corr(), cmap=\"PRGn\");"
   ]
  },
  {
   "cell_type": "code",
   "execution_count": 11,
   "metadata": {},
   "outputs": [
    {
     "data": {
      "text/html": [
       "<div>\n",
       "<style scoped>\n",
       "    .dataframe tbody tr th:only-of-type {\n",
       "        vertical-align: middle;\n",
       "    }\n",
       "\n",
       "    .dataframe tbody tr th {\n",
       "        vertical-align: top;\n",
       "    }\n",
       "\n",
       "    .dataframe thead th {\n",
       "        text-align: right;\n",
       "    }\n",
       "</style>\n",
       "<table border=\"1\" class=\"dataframe\">\n",
       "  <thead>\n",
       "    <tr style=\"text-align: right;\">\n",
       "      <th></th>\n",
       "      <th>Family</th>\n",
       "      <th>title</th>\n",
       "    </tr>\n",
       "  </thead>\n",
       "  <tbody>\n",
       "    <tr>\n",
       "      <th>904</th>\n",
       "      <td>1</td>\n",
       "      <td>Shrek</td>\n",
       "    </tr>\n",
       "    <tr>\n",
       "      <th>905</th>\n",
       "      <td>0</td>\n",
       "      <td>Shrek the Third</td>\n",
       "    </tr>\n",
       "  </tbody>\n",
       "</table>\n",
       "</div>"
      ],
      "text/plain": [
       "     Family            title\n",
       "904       1            Shrek\n",
       "905       0  Shrek the Third"
      ]
     },
     "execution_count": 11,
     "metadata": {},
     "output_type": "execute_result"
    }
   ],
   "source": [
    "pd.concat([genre_dummies.loc[movie_df['title'].str.contains('Shrek'), 'Family'], movie_df['title']], \n",
    "          join='inner', axis=1)"
   ]
  },
  {
   "cell_type": "markdown",
   "metadata": {},
   "source": [
    "** Genre 'Family' is defined not by the movie style, but audience. It shows correlation with 'Animation' and also the assignment of this genre is not consistent. For example, movie Shrek is under the 'Family' genre but the movie in the same sequel Shrek the Third is not. So remove genre 'Family' to avoid confusion.**  "
   ]
  },
  {
   "cell_type": "code",
   "execution_count": 12,
   "metadata": {},
   "outputs": [],
   "source": [
    "genre_dummies.drop(columns='Family', inplace=True)"
   ]
  },
  {
   "cell_type": "code",
   "execution_count": 13,
   "metadata": {},
   "outputs": [],
   "source": [
    "genre_tfidf = TfidfTransformer()\n",
    "genre_vec = genre_tfidf.fit_transform(genre_dummies)"
   ]
  },
  {
   "cell_type": "code",
   "execution_count": 14,
   "metadata": {},
   "outputs": [
    {
     "data": {
      "text/plain": [
       "array([2.30226895, 2.8263398 , 4.3304172 , 6.63300229, 2.12214279,\n",
       "       2.67218912, 1.60093172, 3.28309821, 6.40985874, 6.63300229,\n",
       "       2.98885873, 4.61809927, 3.30976645, 2.73609292, 2.92554645,\n",
       "       6.63300229, 6.92068437, 2.07387605, 4.65200082, 5.31124645])"
      ]
     },
     "execution_count": 14,
     "metadata": {},
     "output_type": "execute_result"
    }
   ],
   "source": [
    "# show the idf vector.  Genre with low frequence has a larger scale.\n",
    "genre_tfidf.idf_"
   ]
  },
  {
   "cell_type": "code",
   "execution_count": 15,
   "metadata": {},
   "outputs": [],
   "source": [
    "#normalize topic vector for each sample\n",
    "nmf_topic_vec_normalized = normalize(nmf_topic_vec, norm='l1')"
   ]
  },
  {
   "cell_type": "code",
   "execution_count": 16,
   "metadata": {},
   "outputs": [],
   "source": [
    "def similar_movie_by_title(movie_ind, topic_vec, genre_vec, scale):\n",
    "    '''recommend top5 similiar movie to the input. \n",
    "    This function combines the topic vector with the genre vector \n",
    "    and return 5 movies with the smallest eucliean distance.\n",
    "        Parameters\n",
    "    ----------\n",
    "    movie_ind : index of the movie in the matrix, int.\n",
    "\n",
    "    topic_vec: The normalized nmf topic vector, shape[m,n]. m is movie number, n is topic number.\n",
    "    \n",
    "    genre_vec: tfidf transformed genre_vec, shape[m, k]. k is genre number\n",
    "    \n",
    "    scale: scale of the genre vec before combination. float.\n",
    "\n",
    "    Returns\n",
    "    -------\n",
    "    movie_inds : indexs of the top movies, array, shape[5]\n",
    "    '''\n",
    "    movie_matrix = np.concatenate([topic_vec, genre_vec.toarray()*scale], axis=1)\n",
    "    dist_array = cdist(movie_matrix[movie_ind].reshape(1, movie_matrix.shape[1]), movie_matrix, metric='euclidean')\n",
    "    return np.argsort(dist_array)[0,1:6]"
   ]
  },
  {
   "cell_type": "code",
   "execution_count": 17,
   "metadata": {},
   "outputs": [],
   "source": [
    "#movie 534 is Indiana Jones and the Last Crusade\n",
    "m = similar_movie_by_title(534, nmf_topic_vec_normalized, genre_vec, 0.2)"
   ]
  },
  {
   "cell_type": "code",
   "execution_count": 18,
   "metadata": {},
   "outputs": [
    {
     "data": {
      "text/plain": [
       "535     Indiana Jones and the Raiders of the Lost Ark\n",
       "536              Indiana Jones and the Temple of Doom\n",
       "245                               Clash of the Titans\n",
       "723                                         The Mummy\n",
       "1108                                              xXx\n",
       "Name: title, dtype: object"
      ]
     },
     "execution_count": 18,
     "metadata": {},
     "output_type": "execute_result"
    }
   ],
   "source": [
    "movie_df['title'][m]"
   ]
  },
  {
   "cell_type": "code",
   "execution_count": 19,
   "metadata": {},
   "outputs": [],
   "source": [
    "# try different scale of genre vector\n",
    "m = similar_movie_by_title(534, nmf_topic_vec_normalized, genre_vec, 0.7)"
   ]
  },
  {
   "cell_type": "code",
   "execution_count": 20,
   "metadata": {},
   "outputs": [
    {
     "data": {
      "text/plain": [
       "535     Indiana Jones and the Raiders of the Lost Ark\n",
       "536              Indiana Jones and the Temple of Doom\n",
       "106                                      The Avengers\n",
       "537                                  Indiana Jones IV\n",
       "1108                                              xXx\n",
       "Name: title, dtype: object"
      ]
     },
     "execution_count": 20,
     "metadata": {},
     "output_type": "execute_result"
    }
   ],
   "source": [
    "movie_df['title'][m]"
   ]
  },
  {
   "cell_type": "markdown",
   "metadata": {},
   "source": [
    "In addition to search for similar movie by title. We can take a text with movie plot, transform it to vectors using the save vocaluaries used in the tfidf, and combine the genre vector to get similar movies."
   ]
  },
  {
   "cell_type": "code",
   "execution_count": 21,
   "metadata": {},
   "outputs": [],
   "source": [
    "def similar_movie_by_text(text, query_genre, topic_vec, genre_vec, tfidf, genre_tfidf, nmf,  scale=0.5):\n",
    "    '''recommend top5 similiar movie to the input text. \n",
    "    This function transform input text and genre using the same tfidf transformation for the database.\n",
    "    Combines the topic vector with the genre vector \n",
    "    and return 5 movies with the smallest eucliean distance.\n",
    "        Parameters\n",
    "    ----------\n",
    "    text: Text descript of the movie. String. \n",
    "    \n",
    "    query_genre: binary 1D-array of the movie genry, shape(k). k is the genre number.\n",
    "\n",
    "    topic_vec: The normalized nmf topic vector, shape[m,n]. m is movie number, n is topic number.\n",
    "    \n",
    "    genre_vec: tfidf transformed genre_vec, shape[m, k]. k is genre number\n",
    "    \n",
    "    tfidf: tfidf used in movie script transformation\n",
    "    \n",
    "    genre_tfidf: genre_tfidf used in genre transformation\n",
    "    \n",
    "    nmf: nmf used in topic formation\n",
    "    \n",
    "    scale: scale of the genre vec before combination. float.\n",
    "\n",
    "    Returns\n",
    "    -------\n",
    "    movie_inds : indexs of the top movies, array, shape[5]\n",
    "    '''\n",
    "    query_vec = normalize(nmf.transform(tfidf.transform([text])), norm='l1').flatten()\n",
    "    query_genre = genre_tfidf.transform(query_genre).toarray().flatten()\n",
    "    query_vec_with_genre = np.concatenate([query_vec, query_genre*scale])\n",
    "    movie_matrix= np.concatenate([topic_vec, genre_vec.toarray()*scale], axis=1)\n",
    "    dist_array = cdist(query_vec_with_genre.reshape(1,-1), movie_matrix, metric='euclidean')\n",
    "    return np.argsort(dist_array)[0,0:5]\n",
    "    "
   ]
  },
  {
   "cell_type": "code",
   "execution_count": 22,
   "metadata": {},
   "outputs": [],
   "source": [
    "# text of Wikipedia 'How to Train Your Dragon 3' Plot, which is to be released in Feb, 2019 \n",
    "#and is not in the imsdb database yet\n",
    "text = '''After becoming the chief of Berk, Hiccup has fulfilled his dream of creating a peaceful dragon utopia, while the sudden discovery of a wild, elusive mate lures Toothless away. When danger threatens their village and tests Hiccup's reign as chief, Hiccup and Toothless are forced to leave the only home they know. As they travel to a hidden world thought to only exist in myth, both dragon and rider will fight together to the very end to protect everything they love'''"
   ]
  },
  {
   "cell_type": "code",
   "execution_count": 23,
   "metadata": {},
   "outputs": [],
   "source": [
    "#make the genre array, and set 'Adventure' and 'Animation' to 1\n",
    "query_genre = np.zeros(genre_dummies.shape[1])\n",
    "query_genre[[1,2]] = 1"
   ]
  },
  {
   "cell_type": "code",
   "execution_count": 24,
   "metadata": {},
   "outputs": [],
   "source": [
    "n = similar_movie_by_text(text,query_genre, nmf_topic_vec_normalized, \n",
    "                           genre_vec, tfidf, genre_tfidf, nmf, scale=0.2)"
   ]
  },
  {
   "cell_type": "code",
   "execution_count": 25,
   "metadata": {},
   "outputs": [
    {
     "data": {
      "text/plain": [
       "514    How to Train Your Dragon 2\n",
       "513      How to Train Your Dragon\n",
       "904                         Shrek\n",
       "326                  Dragonslayer\n",
       "37                        Aladdin\n",
       "Name: title, dtype: object"
      ]
     },
     "execution_count": 25,
     "metadata": {},
     "output_type": "execute_result"
    }
   ],
   "source": [
    "movie_df['title'][n]"
   ]
  },
  {
   "cell_type": "markdown",
   "metadata": {},
   "source": [
    "It's great that we both movies in the sequel show up. "
   ]
  },
  {
   "cell_type": "markdown",
   "metadata": {},
   "source": [
    "Save the model and data for the app. "
   ]
  },
  {
   "cell_type": "code",
   "execution_count": 26,
   "metadata": {},
   "outputs": [],
   "source": [
    "with open('result/recommendation_model.pkl', 'wb') as f:\n",
    "    pickle.dump((nmf_topic_vec_normalized, genre_vec, tfidf, genre_tfidf, nmf), f)"
   ]
  },
  {
   "cell_type": "code",
   "execution_count": 27,
   "metadata": {},
   "outputs": [],
   "source": [
    "movie_titles = movie_df['title']"
   ]
  },
  {
   "cell_type": "code",
   "execution_count": 28,
   "metadata": {},
   "outputs": [],
   "source": [
    "with open('result/movie_titles.pkl', 'wb') as f:\n",
    "    pickle.dump(movie_titles, f)"
   ]
  },
  {
   "cell_type": "code",
   "execution_count": 29,
   "metadata": {},
   "outputs": [],
   "source": [
    "movie_titles.to_csv('result/movie_list.csv', index=False)"
   ]
  },
  {
   "cell_type": "code",
   "execution_count": null,
   "metadata": {},
   "outputs": [],
   "source": []
  }
 ],
 "metadata": {
  "kernelspec": {
   "display_name": "Python 3",
   "language": "python",
   "name": "python3"
  },
  "language_info": {
   "codemirror_mode": {
    "name": "ipython",
    "version": 3
   },
   "file_extension": ".py",
   "mimetype": "text/x-python",
   "name": "python",
   "nbconvert_exporter": "python",
   "pygments_lexer": "ipython3",
   "version": "3.6.5"
  }
 },
 "nbformat": 4,
 "nbformat_minor": 2
}
